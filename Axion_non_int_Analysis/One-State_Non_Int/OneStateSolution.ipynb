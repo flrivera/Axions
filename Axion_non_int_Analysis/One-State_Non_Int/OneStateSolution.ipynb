{
 "cells": [
  {
   "cell_type": "markdown",
   "metadata": {},
   "source": [
    "# Boson Star Notebook"
   ]
  },
  {
   "cell_type": "markdown",
   "metadata": {},
   "source": [
    "Here are all the libraries we will use later."
   ]
  },
  {
   "cell_type": "code",
   "execution_count": 3,
   "metadata": {},
   "outputs": [],
   "source": [
    "import numpy as np\n",
    "import pylab as pl\n",
    "import matplotlib\n",
    "import os\n",
    "\n",
    "from IPython import display\n",
    "from datetime import datetime\n",
    "from scipy.optimize import minimize, curve_fit\n",
    "from matplotlib import pyplot as plt\n",
    "    \n",
    "from BosonStar import BosonStar "
   ]
  },
  {
   "cell_type": "code",
   "execution_count": 4,
   "metadata": {},
   "outputs": [],
   "source": [
    "matplotlib.rcParams.update({'font.size': 13})"
   ]
  },
  {
   "cell_type": "markdown",
   "metadata": {},
   "source": [
    "## 1) Define Ground State Field and Potential Functions \n",
    "\n",
    "Some time ago, I wrote a `BosonStar` class that calculates the wavefunction and potential profile for a boson star using the expansion. See the file `BosonStar.py` in the same directory as this notebook.  \n",
    "\n",
    "You first initialize the `BosonStar` class for a given self interaction parameter `gamma`, and then use the function `BosonStar.get_profile(z)` to get the profile for an array of radii `z` at a specified order of the expansion. "
   ]
  },
  {
   "cell_type": "code",
   "execution_count": 5,
   "metadata": {},
   "outputs": [],
   "source": [
    "gamma=0\n",
    "ground_state=BosonStar(gamma=gamma)\n",
    "\n",
    "z=np.linspace(0,50,200)\n",
    "s,v=ground_state.get_profile(z,z_match=1.3,n_near=10,n_far=4,m_far=4)"
   ]
  },
  {
   "cell_type": "markdown",
   "metadata": {},
   "source": [
    "Let's plot the result"
   ]
  },
  {
   "cell_type": "code",
   "execution_count": 6,
   "metadata": {},
   "outputs": [
    {
     "data": {
      "image/png": "[encoded data removed]",
      "text/plain": [
       "<Figure size 432x288 with 1 Axes>"
      ]
     },
     "metadata": {
      "needs_background": "light"
     },
     "output_type": "display_data"
    }
   ],
   "source": [
    "f=plt.figure() \n",
    "plt.plot(z,s,label=r\"$s$\")\n",
    "plt.plot(z,v,label=r\"$v$\")\n",
    "plt.xlabel(r'$z$')\n",
    "plt.ylabel(r'$ s(z),  v(z)$')\n",
    "plt.title('Ground State Solution')\n",
    "plt.legend()\n",
    "plt.show()"
   ]
  },
  {
   "cell_type": "markdown",
   "metadata": {},
   "source": [
    "## 2) Numerical Solution for Pertubation in One-State Ansatz "
   ]
  },
  {
   "cell_type": "markdown",
   "metadata": {},
   "source": [
    "We now want to obtain a perturbed solution $s(z)=s_0(z) + \\epsilon s_1(z)$ and $v(z)=v_0(z) + \\epsilon  v_1(z)$, where the perturbation is specified by angular quantum numbers $\\ell$ and $m$. The corresponding differential equations we need to solve are\n",
    "\n",
    "\\begin{equation}\n",
    " \\nabla^2 s_1 = -v_1 s_0 - v_0 s_1 + 3 \\gamma s_0^2 s_1 + \\Gamma  s_1 \\quad \\text{and} \\quad\n",
    " \\nabla^2 v_1 = -2 s_1 s_0 \n",
    "\\end{equation}\n",
    "\n",
    "When solving these equation we choose the following boundary conditions for the perturbed solution: $s_1|_{z=0}=0$, $v_1|_{z=0}=0$, $\\partial_z s_1|_{z=0}=s_{11}$ and  $\\partial_z v_1|_{z=0}=1$. In the last condition we used our freedom to normalize both $s_0$ and $v_0$, and set the slope of $v_1$ at the origin to be unity. The perturbed solution is therefore described by a single parameter: $\\partial_z s_1|_{z=0}=s_{11}$. \n",
    "\n",
    "Let us first rewrite the differential equations a bit using $\\nabla^2 s_1 = s_1'' + 2/z \\times s_1'  - \\ell(\\ell+1)/z^2 \\times s_1$. Now we can write\n",
    "\n",
    "\\begin{equation}\n",
    "\\begin{aligned}\n",
    "ds_1/dz &= f_{s}(z,s_1,s_1',v_1,v_1')= s_1 ' \\\\\n",
    "dv_1/dz &= f_{v}(z,s_1,s_1',v_1,v_1')= v_1 ' \\\\\n",
    "ds_1'/dz&= f_{ds}(z,s_1,s_1',v_1,v_1')= -2/z \\times s_1' + \\ell(\\ell+1)/z^2 \\times s_1 - v_1 s_0 - v_0 s_1 + 3 \\gamma s_0^2 s_1 + \\Gamma s_1 \\\\\n",
    "dv_1'/dz&= f_{dv}(z,s_1,s_1',v_1,v_1')=  -2/z \\times v_1'+ \\ell(\\ell+1)/z^2 \\times v_1 - 2 s_1 s_0 \\\\\n",
    "\\end{aligned}\n",
    "\\end{equation}\n",
    "\n",
    "Let us now code up these differential equations:"
   ]
  },
  {
   "cell_type": "code",
   "execution_count": 7,
   "metadata": {},
   "outputs": [],
   "source": [
    "def func_s(z,s1,s1p,v1,v1p,l,gamma,ggamma):\n",
    "    return s1p\n",
    "def func_v(z,s1,s1p,v1,v1p,l,gamma,ggamma):\n",
    "    return v1p\n",
    "def func_ds(z,s1,s1p,v1,v1p,l,gamma,ggamma):\n",
    "    profile = ground_state.get_profile([z])\n",
    "    s0, v0 = profile[0][0], profile[1][0]\n",
    "    return -2./z*s1p + l*(l+1)/z**2*s1 - v1*s0 - v0*s1 + 3.*gamma*s0**2*s1 + ggamma*s1\n",
    "def func_dv(z,s1,s1p,v1,v1p,l,gamma,ggamma):\n",
    "    profile = ground_state.get_profile([z])\n",
    "    s0, v0 = profile[0][0], profile[1][0]\n",
    "    return -2./z*v1p + l*(l+1)/z**2*v1 - 2.*s1*s0 "
   ]
  },
  {
   "cell_type": "markdown",
   "metadata": {},
   "source": [
    "Let's also define this usefull function which does one step in the Runge-Kutta-4 integration"
   ]
  },
  {
   "cell_type": "code",
   "execution_count": 8,
   "metadata": {},
   "outputs": [],
   "source": [
    "def rungekutta_step(z, s1, ds1, v1, dv1 , h, l, gamma, ggamma): \n",
    "    \n",
    "    k1_s  = func_s (z, s1, ds1, v1, dv1, l, gamma, ggamma)\n",
    "    k1_ds = func_ds(z, s1, ds1, v1, dv1, l, gamma, ggamma)\n",
    "    k1_v  = func_v (z, s1, ds1, v1, dv1, l, gamma, ggamma)\n",
    "    k1_dv = func_dv(z, s1, ds1, v1, dv1, l, gamma, ggamma)\n",
    "        \n",
    "    k2_s  = func_s (z+h/2, s1+h/2*k1_s, ds1+h/2*k1_ds, v1+h/2*k1_v, dv1+h/2*k1_dv, l, gamma, ggamma)\n",
    "    k2_ds = func_ds(z+h/2, s1+h/2*k1_s, ds1+h/2*k1_ds, v1+h/2*k1_v, dv1+h/2*k1_dv, l, gamma, ggamma)\n",
    "    k2_v  = func_v (z+h/2, s1+h/2*k1_s, ds1+h/2*k1_ds, v1+h/2*k1_v, dv1+h/2*k1_dv, l, gamma, ggamma)\n",
    "    k2_dv = func_dv(z+h/2, s1+h/2*k1_s, ds1+h/2*k1_ds, v1+h/2*k1_v, dv1+h/2*k1_dv, l, gamma, ggamma)\n",
    "        \n",
    "    k3_s  = func_s (z+h/2, s1+h/2*k2_s, ds1+h/2*k2_ds, v1+h/2*k2_v, dv1+h/2*k2_dv, l, gamma, ggamma)\n",
    "    k3_ds = func_ds(z+h/2, s1+h/2*k2_s, ds1+h/2*k2_ds, v1+h/2*k2_v, dv1+h/2*k2_dv, l, gamma, ggamma)\n",
    "    k3_v  = func_v (z+h/2, s1+h/2*k2_s, ds1+h/2*k2_ds, v1+h/2*k2_v, dv1+h/2*k2_dv, l, gamma, ggamma)\n",
    "    k3_dv = func_dv(z+h/2, s1+h/2*k2_s, ds1+h/2*k2_ds, v1+h/2*k2_v, dv1+h/2*k2_dv, l, gamma, ggamma)\n",
    "        \n",
    "    k4_s  = func_s (z+h, s1+h*k3_s, ds1+h*k3_ds, v1+h*k3_v, dv1+h*k3_dv, l, gamma, ggamma)\n",
    "    k4_ds = func_ds(z+h, s1+h*k3_s, ds1+h*k3_ds, v1+h*k3_v, dv1+h*k3_dv, l, gamma, ggamma)\n",
    "    k4_v  = func_v (z+h, s1+h*k3_s, ds1+h*k3_ds, v1+h*k3_v, dv1+h*k3_dv, l, gamma, ggamma)\n",
    "    k4_dv = func_dv(z+h, s1+h*k3_s, ds1+h*k3_ds, v1+h*k3_v, dv1+h*k3_dv, l, gamma, ggamma)\n",
    "        \n",
    "    ksum_s  = k1_s + 2*k2_s + 2*k3_s + k4_s\n",
    "    ksum_ds = k1_ds+ 2*k2_ds+ 2*k3_ds+ k4_ds\n",
    "    ksum_v  = k1_v + 2*k2_v + 2*k3_v + k4_v\n",
    "    ksum_dv = k1_dv+ 2*k2_dv+ 2*k3_dv+ k4_dv\n",
    "        \n",
    "    step_s  = h/6.*ksum_s\n",
    "    step_ds = h/6.*ksum_ds\n",
    "    step_v  = h/6.*ksum_v\n",
    "    step_dv = h/6.*ksum_dv\n",
    "    \n",
    "    return step_s, step_ds, step_v, step_dv"
   ]
  },
  {
   "cell_type": "markdown",
   "metadata": {},
   "source": [
    "Now we can write a function for the integration algorithm: `onestatesolution(l,gamma,ggamma,s11)` which numerically calculates the perturbed profile for fixed values $\\ell$, $\\gamma$, $\\Gamma$ and $s_{11}$. "
   ]
  },
  {
   "cell_type": "code",
   "execution_count": 9,
   "metadata": {},
   "outputs": [],
   "source": [
    "def onestatesolution(l,gamma,ggamma,s11,do_write=False):\n",
    "   \n",
    "    #step size \n",
    "    h=.01 \n",
    "    \n",
    "    #initial consitions\n",
    "    z=h/2. \n",
    "    dS_1, dV_1 = s11, 1\n",
    "    S_1, V_1 = dS_1*z, dV_1*z\n",
    "\n",
    "    #prepare output\n",
    "    output_z, output_S1, output_dS1, output_V1, output_dV1 = [], [], [], [], []\n",
    "  \n",
    "    #Condition to ensure I see full behaivior up to when the functions starts diverging.\n",
    "    while(abs(S_1)<3) :\n",
    "#    while(z<20) :\n",
    "        \n",
    "        output_z.append(z)\n",
    "        output_S1.append(S_1)\n",
    "        output_dS1.append(dS_1)\n",
    "        output_V1.append(V_1)\n",
    "        output_dV1.append(dV_1)\n",
    "    \n",
    "        step_s, step_ds, step_v, step_dv= rungekutta_step(z, S_1, dS_1, V_1, dV_1, h, l, gamma, ggamma)\n",
    "        z    = z    + h\n",
    "        S_1  = S_1  + step_s\n",
    "        V_1  = V_1  + step_v\n",
    "        dS_1 = dS_1 + step_ds\n",
    "        dV_1 = dV_1 + step_dv\n",
    "        \n",
    "    return np.array(output_z),np.array(output_S1),np.array(output_dS1),np.array(output_V1),np.array(output_dV1)"
   ]
  },
  {
   "cell_type": "markdown",
   "metadata": {},
   "source": [
    "Now, let's plot one solution for $\\gamma=0$."
   ]
  },
  {
   "cell_type": "code",
   "execution_count": 10,
   "metadata": {},
   "outputs": [
    {
     "data": {
      "image/png": "[encoded data removed]",
      "text/plain": [
       "<Figure size 432x288 with 1 Axes>"
      ]
     },
     "metadata": {
      "needs_background": "light"
     },
     "output_type": "display_data"
    }
   ],
   "source": [
    "#get ground state\n",
    "z0 =np.linspace(0,20,100)\n",
    "s0,v0 = ground_state.get_profile(z0)\n",
    "\n",
    "#get excited state\n",
    "z1,s1,_,v1,_=onestatesolution(l=1, gamma=gamma, ggamma=0.000129469363981189, s11=0.918399213689316)\n",
    "\n",
    "#plot\n",
    "f=plt.figure() \n",
    "plt.plot(z0,s0,label=r\"$s_0$\")\n",
    "plt.plot(z0,v0,label=r\"$v_0$\")\n",
    "plt.plot(z1,s1,label=r\"$s_1$\")\n",
    "plt.plot(z1,v1,label=r\"$v_1$\")\n",
    "plt.xlabel(r'$z$')\n",
    "plt.ylabel(r'$ s(z),v(z)$')\n",
    "plt.title('One State Solution')\n",
    "#plt.ylim(-1,1.1)\n",
    "plt.legend()\n",
    "plt.show()\n",
    "\n",
    "#print (\"We found the following solution:\") \n",
    "#print (\"   z=\",z1) \n",
    "#print (\"  S1=\",s1) \n",
    "#print (\"  V1=\",v1) "
   ]
  },
  {
   "cell_type": "markdown",
   "metadata": {},
   "source": [
    "## 3) Find Physical Solution\n",
    "\n",
    "We know that at large radii $z\\gg1$, both the potential and the field should approach zero. However, for most values of $s_{11}$ and $\\Gamma$, the solution will diverge as $s \\sim e^z$ and $v \\sim z$. We therefore search for a solution for which $|log s(z_{far})|$ and $|v(z_{far})|$ are minimized for some large value $z_{far} \\gg 1$. \n",
    "\n",
    "So let us define $s_(z|s_{11},\\Gamma)$ and $v(z|s_{11},\\Gamma)$ as the numerical solutions for the profile corresponding to $s_{11}$ and $\\Gamma$. We define a loss function \n",
    "\n",
    "\\begin{equation}\n",
    "L(\\mu,\\Gamma) = log |s(z_{far}|s_{11},\\Gamma)| +  |v(z_{far}|s_{11},\\Gamma)|\n",
    "\\end{equation}"
   ]
  },
  {
   "cell_type": "code",
   "execution_count": 11,
   "metadata": {},
   "outputs": [],
   "source": [
    "def func_vfar(x, a, b):\n",
    "    return a * x + b / x**2\n",
    "\n",
    "result_array=[]\n",
    "def lossfunction(x):\n",
    "\n",
    "    #get solution for l=1 and gamma=0\n",
    "    z1,s1,_,v1,_=onestatesolution(l=1, gamma=0, s11=x[0], ggamma=x[1])\n",
    "    \n",
    "    #get loss function\n",
    "    ipos=10\n",
    "    while ipos<len(s1) and abs(s1[ipos])>0.001: ipos+=1\n",
    "    imin=min(int(0.7*len(z1)), ipos)\n",
    "    while ipos<len(s1) and abs(s1[ipos])<0.1: ipos+=1\n",
    "    imax=min(len(z1)-1, max(ipos,int(0.75*len(z1))))\n",
    "    params, pcov = curve_fit(func_vfar, z1[imin:imax], v1[imin:imax])\n",
    "    \n",
    "    error = [] \n",
    "    for i in range(len(params)):\n",
    "        try:\n",
    "          error.append(np.absolute(pcov[i][i])**0.5)\n",
    "        except:\n",
    "          error.append( 0.00 )\n",
    "    pfit_curvefit = params\n",
    "    perr_curvefit = np.array(error)\n",
    "    print( pfit_curvefit, perr_curvefit )\n",
    "    \n",
    "    \n",
    "    #loss = alpha*np.log10(abs(s1[-1])) + (1-alpha)*np.log10(abs(params[0]))\n",
    "    loss = z1[-1]*(-1 + 5*abs(params[0]) ) \n",
    "    \n",
    "    #plot \n",
    "    f=plt.figure() \n",
    "    plt.plot(z0,s0,label=r\"$s_0$\")\n",
    "    plt.plot(z0,v0,label=r\"$v_0$\")\n",
    "    plt.plot(z1,s1,label=r\"$s_1$\")\n",
    "    plt.plot(z1,v1,label=r\"$v_1$\")\n",
    "    #plt.plot(z1,[func_vfar(z,params[0],params[1]) for z in z1],label=r\"$s_0$\", ls=\"dashed\", c=\"k\")\n",
    "    plt.plot(z1[imin:imax], func_vfar(z1[imin:imax], *params),  ls=\"dashed\", c=\"k\") \n",
    "    plt.xlabel(r'$z$')\n",
    "    plt.ylabel(r'$ s(z),v(z)$')\n",
    "    plt.title('Ground State Solution')\n",
    "    lims=[-1.2,1.2]\n",
    "    plt.text(0,lims[0]+0.36*(lims[1]-lims[0]),r\"ipos=\"+str(imin)+\"/\"+str(imax))\n",
    "    plt.text(0,lims[0]+0.29*(lims[1]-lims[0]),r\"v-slope=\"+str(round(params[0],10)))\n",
    "    plt.text(0,lims[0]+0.22*(lims[1]-lims[0]),r\"$s_{11}$=\"+str(round(x[0],10)))\n",
    "    plt.text(0,lims[0]+0.15*(lims[1]-lims[0]),r\"$\\Gamma$=\"+str(round(x[1],10)))\n",
    "    plt.text(0,lims[0]+0.08*(lims[1]-lims[0]),r\"loss=\"+str(round(loss,5)))\n",
    "    plt.legend(loc=\"upper right\")\n",
    "    plt.ylim(lims[0],lims[1])\n",
    "    plt.grid(True)\n",
    "    display.clear_output(wait=True)\n",
    "    display.display(pl.gcf())   \n",
    "    plt.close()\n",
    "    \n",
    "    #print output\n",
    "    nowtime = datetime.now()\n",
    "    with open(\"result.txt\", \"a\") as myfile:\n",
    "        myfile.write(str(x[0])+\" \"+str(x[1])+\n",
    "            \" \"+str(s1[-1])+\" \"+str(params[0])+\" \"+str(loss)+\n",
    "            \" \"+str( (nowtime-starttime).total_seconds())+\"\\n\") \n",
    "\n",
    "    return loss"
   ]
  },
  {
   "cell_type": "markdown",
   "metadata": {},
   "source": [
    "and use `scipy.optimize.minimize` to minimize it. "
   ]
  },
  {
   "cell_type": "code",
   "execution_count": 12,
   "metadata": {},
   "outputs": [
    {
     "data": {
      "image/png": "[encoded data removed]",
      "text/plain": [
       "<Figure size 432x288 with 1 Axes>"
      ]
     },
     "metadata": {},
     "output_type": "display_data"
    },
    {
     "name": "stdout",
     "output_type": "stream",
     "text": [
      "Optimization terminated successfully.\n",
      "         Current function value: -50.577489\n",
      "         Iterations: 125\n",
      "         Function evaluations: 270\n"
     ]
    },
    {
     "data": {
      "text/plain": [
       " final_simplex: (array([[9.18399214e-01, 1.29469364e-04],\n",
       "       [9.18399214e-01, 1.29469364e-04],\n",
       "       [9.18399214e-01, 1.29469364e-04]]), array([-50.57748861, -50.57748861, -50.57748861]))\n",
       "           fun: -50.57748860672799\n",
       "       message: 'Optimization terminated successfully.'\n",
       "          nfev: 270\n",
       "           nit: 125\n",
       "        status: 0\n",
       "       success: True\n",
       "             x: array([9.18399214e-01, 1.29469364e-04])"
      ]
     },
     "execution_count": 12,
     "metadata": {},
     "output_type": "execute_result"
    }
   ],
   "source": [
    "if os.path.exists(\"result.txt\"):os.remove(\"result.txt\")\n",
    "starttime = datetime.now()\n",
    "minimize(lossfunction, (0.9184,0), method='Nelder-Mead', tol=1e-6, \n",
    "    options={'xatol': 0.0001, 'disp': True } )"
   ]
  },
  {
   "cell_type": "code",
   "execution_count": null,
   "metadata": {},
   "outputs": [],
   "source": []
  }
 ],
 "metadata": {
  "kernelspec": {
   "display_name": "Python 3",
   "language": "python",
   "name": "python3"
  },
  "language_info": {
   "codemirror_mode": {
    "name": "ipython",
    "version": 3
   },
   "file_extension": ".py",
   "mimetype": "text/x-python",
   "name": "python",
   "nbconvert_exporter": "python",
   "pygments_lexer": "ipython3",
   "version": "3.8.5"
  },
  "widgets": {
   "application/vnd.jupyter.widget-state+json": {
    "state": {},
    "version_major": 2,
    "version_minor": 0
   }
  }
 },
 "nbformat": 4,
 "nbformat_minor": 4
}
